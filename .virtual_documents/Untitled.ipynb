import tensorflow as tf
import numpy as np


get_ipython().getoutput("conda env list")


get_ipython().getoutput("conda list")


from tensorflow.python.client import device_lib
device_lib.list_local_devices() 
tf.test.is_gpu_available() 


print('heelo') # 이것은 테스트 파일입ㄴ디ㅏ.
