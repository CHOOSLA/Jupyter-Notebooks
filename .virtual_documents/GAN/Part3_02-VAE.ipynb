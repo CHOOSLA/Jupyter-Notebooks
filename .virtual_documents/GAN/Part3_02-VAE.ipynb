import numpy as np
import matplotlib.pyplot as plt
import numpy as np
import os
from scipy.stats import norm

from models.AE import Autoencoder
from utils.loaders import load_mnist, load_model


# run params
SECTION = 'vae'
RUN_ID = '0001'
DATA_NAME = 'digits'
RUN_FOLDER = 'run/{}/'.format(SECTION)
RUN_FOLDER += '_'.join([RUN_ID, DATA_NAME])


(x_train, y_train), (x_test, y_test) = load_mnist()


AE = load_model(Autoencoder, RUN_FOLDER)



