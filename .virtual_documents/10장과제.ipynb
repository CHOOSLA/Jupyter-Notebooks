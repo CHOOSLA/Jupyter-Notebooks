import numpy as np
import matplotlib.pyplot as plt
import tensorflow as tf
from tensorflow import keras
from tensorflow.keras import Sequential


import requests
requests.packages.urllib3.disable_warnings()
import ssl

try:
    _create_unverified_https_context = ssl._create_unverified_context
except AttributeError:
    # Legacy Python that doesn't verify HTTPS certificates by default
    pass
else:
    # Handle target environment that doesn't support HTTPS verification
    ssl._create_default_https_context = _create_unverified_https_context


from tensorflow.keras.layers import *

(X_train, y_train) , (X_test,y_test) = keras.datasets.cifar10.load_data()


# 총 0부터 9까지 10개의 정답이 있다.
labels = ['airplane', 'automobile', 'bird', 'cat', 'deer', 'dog', 'frog', \
          'horse', 'ship', 'truck']


# 두 번째 영상(트럭을)을 화면에 표시한다.
plt.figure()
plt.imshow(X_train[1])
plt.colorbar()


plt.figure(figsize=(10,10))
for i in range(9):
    ax = plt.subplot(3,3,i+1)
    plt.imshow(X_train[i])
    plt.title(labels[y_train[i][0]])
    plt.axis('off')
plt.show()


X_train = X_train / 255.0
X_test = X_test / 255.0


model = Sequential()
model.add(Conv2D(64, activation = 'relu', kernel_size = (3,3)))
model.add(MaxPooling2D(pool_size = (2,2)))
model.add(Conv2D(32, activation = 'relu', kernel_size = (3,3)))
model.add(Flatten(input_shape= (32, 32, 3)))
model.add(Dense(80, activation='relu'))
model.add(Dense(10, activation='softmax'))


model.compile(optimizer='adam', loss='sparse_categorical_crossentropy', \
              metrics=['accuracy'])


history = model.fit(X_train, y_train, epochs=10, verbose=1, validation_split=0.3)


plt.plot(history.history['loss'])
plt.plot(history.history['val_loss'])
plt.title('loss')
plt.ylabel('loss')
plt.xlabel('epoch')
plt.legend(['loss', 'val_loss'], loc='lower right')
plt.show()


plt.figure()
plt.imshow(X_test[0])
y_pred = model.predict(X_test)
print("정답=", labels[y_test[0][0]])
print("예측 레이블=", labels[np.argmax(y_pred[0])])



