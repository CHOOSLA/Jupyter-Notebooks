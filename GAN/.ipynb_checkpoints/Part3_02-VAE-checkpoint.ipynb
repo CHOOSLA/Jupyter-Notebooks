{
 "cells": [
  {
   "cell_type": "markdown",
   "id": "9a17e3c5-34ac-4e7a-a836-39efed8b7e4b",
   "metadata": {},
   "source": [
    "## 라이브러리 임포트"
   ]
  },
  {
   "cell_type": "code",
   "execution_count": 1,
   "id": "a3b1fa87-d6c8-4eec-9040-b061eeff2269",
   "metadata": {},
   "outputs": [
    {
     "name": "stderr",
     "output_type": "stream",
     "text": [
      "Using TensorFlow backend.\n"
     ]
    }
   ],
   "source": [
    "import numpy as np\n",
    "import matplotlib.pyplot as plt\n",
    "import numpy as np\n",
    "import os\n",
    "from scipy.stats import norm\n",
    "\n",
    "from models.AE import Autoencoder\n",
    "from utils.loaders import load_mnist, load_model"
   ]
  },
  {
   "cell_type": "code",
   "execution_count": 3,
   "id": "f20ba463-58a3-4717-9e5e-399b48136d43",
   "metadata": {},
   "outputs": [],
   "source": [
    "# run params\n",
    "SECTION = 'vae'\n",
    "RUN_ID = '0001'\n",
    "DATA_NAME = 'digits'\n",
    "RUN_FOLDER = 'run/{}/'.format(SECTION)\n",
    "RUN_FOLDER += '_'.join([RUN_ID, DATA_NAME])"
   ]
  },
  {
   "cell_type": "markdown",
   "id": "1c39661a-a784-4414-a0ac-92e64d1f6827",
   "metadata": {},
   "source": [
    "## 데이터 적재"
   ]
  },
  {
   "cell_type": "code",
   "execution_count": 4,
   "id": "e8eaf8ed-c519-48ea-abe7-00037c0c2ae4",
   "metadata": {},
   "outputs": [],
   "source": [
    "(x_train, y_train), (x_test, y_test) = load_mnist()"
   ]
  },
  {
   "cell_type": "markdown",
   "id": "cb7bf916-34b8-4a7b-a89d-e41b484b4bbe",
   "metadata": {},
   "source": [
    "## 모델 불러오기"
   ]
  },
  {
   "cell_type": "code",
   "execution_count": 6,
   "id": "c22ea36d-a63e-42b9-9d62-89bd390a4839",
   "metadata": {},
   "outputs": [],
   "source": [
    "AE = load_model(Autoencoder, RUN_FOLDER)"
   ]
  },
  {
   "cell_type": "code",
   "execution_count": null,
   "id": "30172ae4-f86b-4eb1-a8e2-cd5c1ec7fbcb",
   "metadata": {},
   "outputs": [],
   "source": []
  }
 ],
 "metadata": {
  "kernelspec": {
   "display_name": "Python [conda env:generative]",
   "language": "python",
   "name": "conda-env-generative-py"
  },
  "language_info": {
   "codemirror_mode": {
    "name": "ipython",
    "version": 3
   },
   "file_extension": ".py",
   "mimetype": "text/x-python",
   "name": "python",
   "nbconvert_exporter": "python",
   "pygments_lexer": "ipython3",
   "version": "3.6.13"
  }
 },
 "nbformat": 4,
 "nbformat_minor": 5
}
